{
 "cells": [
  {
   "cell_type": "markdown",
   "id": "545f8dde",
   "metadata": {},
   "source": [
    "## API Data Wrangling Mini Project"
   ]
  },
  {
   "cell_type": "markdown",
   "id": "d9781542",
   "metadata": {},
   "source": [
    "This exercise will require you to pull some data from https://data.nasdaq.com/ (formerly Quandl API).\n",
    "\n",
    "As a first step, you will need to register a free account on the https://data.nasdaq.com/ website.\n",
    "\n",
    "After you register, you will be provided with a unique API key, that you should store:\n",
    "\n",
    "Note: Use a .env file and put your key in there and python-dotenv to access it in this notebook.\n",
    "\n",
    "The code below uses a key that was used when generating this project but has since been deleted. Never submit your keys to source control. There is a .env-example file in this repository to illusrtate what you need. Copy that to a file called .env and use your own api key in that .env file. Make sure you also have a .gitignore file with a line for .env added to it.\n",
    "\n",
    "The standard Python gitignore is here you can just copy that."
   ]
  },
  {
   "cell_type": "markdown",
   "id": "856b2e9d",
   "metadata": {},
   "source": [
    "Nasdaq Data has a large number of data sources, but, unfortunately, most of them require a Premium subscription. Still, there are also a good number of free datasets.\n",
    "\n",
    "For this mini project, we will focus on equities data from the Frankfurt Stock Exhange (FSE), which is available for free. We'll try and analyze the stock prices of a company called Carl Zeiss Meditec, which manufactures tools for eye examinations, as well as medical lasers for laser eye surgery: https://www.zeiss.com/meditec/int/home.html. The company is listed under the stock ticker AFX_X.\n",
    "\n",
    "You can find the detailed Nasdaq Data API instructions here: https://docs.data.nasdaq.com/docs/in-depth-usage\n",
    "\n",
    "While there is a dedicated Python package for connecting to the Nasdaq API, we would prefer that you use the requests package, which can be easily downloaded using pip or conda. You can find the documentation for the package here: http://docs.python-requests.org/en/master/\n",
    "\n",
    "Finally, apart from the requests package, you are encouraged to not use any third party Python packages, such as pandas, and instead focus on what's available in the Python Standard Library (the collections module might come in handy: https://pymotw.com/3/collections/). Also, since you won't have access to DataFrames, you are encouraged to us Python's native data structures - preferably dictionaries, though some questions can also be answered using lists. You can read more on these data structures here: https://docs.python.org/3/tutorial/datastructures.html\n",
    "\n",
    "Keep in mind that the JSON responses you will be getting from the API map almost one-to-one to Python's dictionaries. Unfortunately, they can be very nested, so make sure you read up on indexing dictionaries in the documentation provided above."
   ]
  },
  {
   "cell_type": "markdown",
   "id": "016a1362",
   "metadata": {},
   "source": [
    "### Import libraries"
   ]
  },
  {
   "cell_type": "code",
   "execution_count": 1,
   "id": "0f4c26fa-ec60-4399-9f27-c356f7896b76",
   "metadata": {},
   "outputs": [],
   "source": [
    "import os\n",
    "import requests\n",
    "from dotenv import load_dotenv"
   ]
  },
  {
   "cell_type": "markdown",
   "id": "7e537d8e",
   "metadata": {},
   "source": [
    "### Get API key"
   ]
  },
  {
   "cell_type": "code",
   "execution_count": 2,
   "id": "bbb75f5a",
   "metadata": {},
   "outputs": [
    {
     "name": "stdout",
     "output_type": "stream",
     "text": [
      "Supp5SHmaL5ydax-JBAi\n"
     ]
    }
   ],
   "source": [
    "# get API key from .env file\n",
    "load_dotenv(\".env\")\n",
    "API_KEY = os.getenv(key='NASDAQ_API_KEY')\n",
    "print(API_KEY)"
   ]
  },
  {
   "cell_type": "markdown",
   "id": "a00ee1ac",
   "metadata": {},
   "source": [
    "### Make a request"
   ]
  },
  {
   "cell_type": "code",
   "execution_count": 3,
   "id": "fc959f2e",
   "metadata": {},
   "outputs": [],
   "source": [
    "url = 'https://data.nasdaq.com/api/v3/datasets/FSE/AFX_X.json?api_key=' + API_KEY"
   ]
  },
  {
   "cell_type": "code",
   "execution_count": 4,
   "id": "6159aea9",
   "metadata": {},
   "outputs": [
    {
     "data": {
      "text/plain": [
       "{'dataset': {'id': 10095370,\n",
       "  'dataset_code': 'AFX_X',\n",
       "  'database_code': 'FSE',\n",
       "  'name': 'Carl Zeiss Meditec (AFX_X)',\n",
       "  'description': 'Stock Prices for Carl Zeiss Meditec (2020-11-02) from the Frankfurt Stock Exchange.<br><br>Trading System: Xetra<br><br>ISIN: DE0005313704',\n",
       "  'refreshed_at': '2020-12-01T14:48:09.907Z',\n",
       "  'newest_available_date': '2020-12-01',\n",
       "  'oldest_available_date': '2000-06-07',\n",
       "  'column_names': ['Date',\n",
       "   'Open',\n",
       "   'High',\n",
       "   'Low',\n",
       "   'Close',\n",
       "   'Change',\n",
       "   'Traded Volume',\n",
       "   'Turnover',\n",
       "   'Last Price of the Day',\n",
       "   'Daily Traded Units',\n",
       "   'Daily Turnover'],\n",
       "  'frequency': 'daily',\n",
       "  'type': 'Time Series',\n",
       "  'premium': False,\n",
       "  'limit': 1,\n",
       "  'transform': None,\n",
       "  'column_index': None,\n",
       "  'start_date': '2000-06-07',\n",
       "  'end_date': '2020-12-01',\n",
       "  'data': [['2020-12-01',\n",
       "    112.2,\n",
       "    112.2,\n",
       "    111.5,\n",
       "    112.0,\n",
       "    None,\n",
       "    51.0,\n",
       "    5703.0,\n",
       "    None,\n",
       "    None,\n",
       "    None]],\n",
       "  'collapse': None,\n",
       "  'order': None,\n",
       "  'database_id': 6129}}"
      ]
     },
     "execution_count": 4,
     "metadata": {},
     "output_type": "execute_result"
    }
   ],
   "source": [
    "# using parameter to get just the latest row\n",
    "limit = {'limit': 1}\n",
    "r = requests.get(url, params=limit)\n",
    "r.json()"
   ]
  },
  {
   "cell_type": "markdown",
   "id": "85791546",
   "metadata": {},
   "source": [
    "### 1) Collect data from the Franfurt Stock Exchange, for the ticker AFX_X, for the whole year 2017"
   ]
  },
  {
   "cell_type": "code",
   "execution_count": 5,
   "id": "70f153fc",
   "metadata": {},
   "outputs": [],
   "source": [
    "year_2017 = {'start_date': '2017-01-01', \n",
    "             'end_date': '2017-12-31'}\n",
    "r1 = requests.get(url, params=year_2017)\n",
    "data_2017 = r1.json()"
   ]
  },
  {
   "cell_type": "markdown",
   "id": "fd5bcf57",
   "metadata": {},
   "source": [
    "### 2) Convert the returned JSON object into a Python dictionary"
   ]
  },
  {
   "cell_type": "code",
   "execution_count": 7,
   "id": "19f42a75",
   "metadata": {},
   "outputs": [
    {
     "name": "stdout",
     "output_type": "stream",
     "text": [
      "<class 'dict'>\n"
     ]
    }
   ],
   "source": [
    "print(type(data_2017))"
   ]
  },
  {
   "cell_type": "markdown",
   "id": "897b7406",
   "metadata": {},
   "source": [
    "### 3) Calculate what the highest and lowest opening prices were for the stock in this period"
   ]
  },
  {
   "cell_type": "code",
   "execution_count": 60,
   "id": "2a48331a",
   "metadata": {},
   "outputs": [
    {
     "name": "stdout",
     "output_type": "stream",
     "text": [
      "['Date', 'Open', 'High', 'Low', 'Close', 'Change', 'Traded Volume', 'Turnover', 'Last Price of the Day', 'Daily Traded Units', 'Daily Turnover']\n"
     ]
    }
   ],
   "source": [
    "column_names = data_2017['dataset']['column_names']\n",
    "print(column_names)"
   ]
  },
  {
   "cell_type": "code",
   "execution_count": 72,
   "id": "3bf83216",
   "metadata": {},
   "outputs": [
    {
     "name": "stdout",
     "output_type": "stream",
     "text": [
      "[['2017-12-29', 51.76, 51.94, 51.45, 51.76, None, 34640.0, 1792304.0, None, None, None], ['2017-12-28', 51.65, 51.82, 51.43, 51.6, None, 40660.0, 2099024.0, None, None, None]]\n"
     ]
    }
   ],
   "source": [
    "data = data_2017['dataset']['data']\n",
    "print(data[0:2])"
   ]
  },
  {
   "cell_type": "code",
   "execution_count": 36,
   "id": "f6bf6a4e",
   "metadata": {},
   "outputs": [],
   "source": [
    "def get_open(data:list):\n",
    "    \"\"\"\n",
    "    Function that returns all the opening prices from the list provided\n",
    "    \"\"\"\n",
    "    open_prices = []\n",
    "    for t in data:\n",
    "        if isinstance(t[1], float):\n",
    "            open_prices.append(t[1])\n",
    "        else:\n",
    "            open_prices.append(0.)\n",
    "#     print(len(open_prices))\n",
    "    return open_prices\n",
    "\n",
    "opening_prices = get_open(data)"
   ]
  },
  {
   "cell_type": "code",
   "execution_count": 58,
   "id": "a91bb75f",
   "metadata": {},
   "outputs": [
    {
     "name": "stdout",
     "output_type": "stream",
     "text": [
      "Highest opening price:\t$ 53.11\n",
      "Lowest opening price:\t$ 0.00\n"
     ]
    }
   ],
   "source": [
    "l_open = min(opening_prices)\n",
    "h_open = max(opening_prices)\n",
    "print('Highest opening price:\\t$ {:.2f}'.format(h_open))\n",
    "print('Lowest opening price:\\t$ {:.2f}'.format(l_open))"
   ]
  },
  {
   "cell_type": "markdown",
   "id": "e8da5ea9",
   "metadata": {},
   "source": [
    "### 4) What was the largest change in any one day (based on High and Low price)?"
   ]
  },
  {
   "cell_type": "code",
   "execution_count": 84,
   "id": "2b6355f9",
   "metadata": {},
   "outputs": [
    {
     "name": "stdout",
     "output_type": "stream",
     "text": [
      "{'date': '2017-05-11', 'high': 46.06, 'low': 43.25, 'change': 2.8100000000000023}\n"
     ]
    }
   ],
   "source": [
    "def largest_change(data:list):\n",
    "    \"\"\"\n",
    "    Calculate the largest change in any one day and return the date\n",
    "    \"\"\"\n",
    "    d = {'date': data[0][0],\n",
    "         'high': data[0][2],\n",
    "         'low': data[0][3],\n",
    "         'change': data[0][2] - data[0][3]}\n",
    "    for i in data:\n",
    "        change = i[2] - i[3]\n",
    "        if change > d['change']:\n",
    "            d['date'] = i[0]\n",
    "            d['high'] = i[2]\n",
    "            d['low'] = i[3]\n",
    "            d['change'] = change\n",
    "    return d\n",
    "l_change = largest_change(data)\n",
    "print(l_change)"
   ]
  },
  {
   "cell_type": "markdown",
   "id": "a250414d",
   "metadata": {},
   "source": [
    "### 5) What was the largest change between any two days?"
   ]
  },
  {
   "cell_type": "code",
   "execution_count": 93,
   "id": "572f37c9",
   "metadata": {},
   "outputs": [],
   "source": [
    "def largest_two_days(data:list):\n",
    "    \"\"\"\n",
    "    Calculate what was the largest change between any two days (based on closing price)\n",
    "    \"\"\"\n",
    "    d = {'date_1': str,\n",
    "         'close_1': 0.,\n",
    "         'date_2': str,\n",
    "         'close_2': 0.,\n",
    "         'difference': 0.}\n",
    "    for i in range(len(data) - 1):\n",
    "        differ = abs(data[i][4] - data[i+1][4])\n",
    "        if differ > d['difference']:\n",
    "            d['date_1'] = data[i][0]\n",
    "            d['close_1'] = data[i][4]\n",
    "            d['date_2'] = data[i+1][0]\n",
    "            d['close_2'] = data[i+1][4]\n",
    "            d['difference'] = differ\n",
    "    return d"
   ]
  },
  {
   "cell_type": "code",
   "execution_count": 99,
   "id": "2d556769",
   "metadata": {},
   "outputs": [
    {
     "name": "stdout",
     "output_type": "stream",
     "text": [
      "{'date_1': '2017-08-09', 'close_1': 41.81, 'date_2': '2017-08-08', 'close_2': 44.37, 'difference': 2.559999999999995}\n"
     ]
    }
   ],
   "source": [
    "two_days = largest_two_days(data)\n",
    "print(two_days)"
   ]
  },
  {
   "cell_type": "markdown",
   "id": "0db3dadd",
   "metadata": {},
   "source": [
    "### What was the average daily trading volume during this year?"
   ]
  },
  {
   "cell_type": "code",
   "execution_count": null,
   "id": "6a8c65c3",
   "metadata": {},
   "outputs": [],
   "source": []
  }
 ],
 "metadata": {
  "kernelspec": {
   "display_name": "Python 3 (ipykernel)",
   "language": "python",
   "name": "python3"
  },
  "language_info": {
   "codemirror_mode": {
    "name": "ipython",
    "version": 3
   },
   "file_extension": ".py",
   "mimetype": "text/x-python",
   "name": "python",
   "nbconvert_exporter": "python",
   "pygments_lexer": "ipython3",
   "version": "3.9.12"
  }
 },
 "nbformat": 4,
 "nbformat_minor": 5
}
